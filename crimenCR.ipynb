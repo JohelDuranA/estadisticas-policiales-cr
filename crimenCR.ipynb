{
 "cells": [
  {
   "cell_type": "code",
   "execution_count": 364,
   "id": "a87c91c6-5a74-4a3f-b853-5bd9ae87f87d",
   "metadata": {},
   "outputs": [],
   "source": [
    "#import libraries\n",
    "import pandas as pd\n"
   ]
  },
  {
   "cell_type": "markdown",
   "id": "dfe5a38e-1740-4cbe-8243-7fdf596854e1",
   "metadata": {},
   "source": [
    "# Data extraction and cleaning\n"
   ]
  },
  {
   "cell_type": "code",
   "execution_count": 156,
   "id": "ecd170c5-1a5e-47e7-87a1-b8cda1c8875b",
   "metadata": {},
   "outputs": [],
   "source": [
    "#wrangle function for csv data cleanup for 2015\n",
    "\n",
    "def wrangle15(f):\n",
    "    df15 = pd.read_csv(f)\n",
    "    \n",
    "    df15=df15['ASALTO;GOLPES;2015-01-01;PERSONA;PEATON [PERSONA];Mayor de edad                                     ;;COSTA RICA;PUNTARENAS;PARRITA;PARRITA;'].str.split(';', expand=True)\n",
    "    \n",
    "    df15.drop(columns= [6,11], inplace=True)\n",
    "    nombres = {\n",
    "    0:'Delito',\n",
    "    1: 'Subdelito',\n",
    "    2: 'Fecha',\n",
    "    3: 'Victima',\n",
    "    4: 'Subvictima',\n",
    "    5: 'Edad',\n",
    "    7: 'Nacionalidad',\n",
    "    8: 'Provincia',\n",
    "    9: 'Canton',\n",
    "    10: 'Distrito'\n",
    "\n",
    "}\n",
    "    df15.rename(nombres, axis=1, inplace=True)\n",
    "    df15['Fecha'] = pd.to_datetime(df15['Fecha'], infer_datetime_format=True, errors='coerce')\n",
    "    \n",
    "    return df15\n",
    "    \n",
    "    \n",
    "    "
   ]
  },
  {
   "cell_type": "code",
   "execution_count": 157,
   "id": "5f4c2020-4fbe-4c76-9129-c81d0f70e038",
   "metadata": {},
   "outputs": [],
   "source": [
    "df15= wrangle('/Users/mac/Desktop/just abierta proyecto/PJCROD_POLICIALES_V1-2015.csv')"
   ]
  },
  {
   "cell_type": "code",
   "execution_count": 158,
   "id": "4c782229-5851-4a41-9b7a-4fb2e0e01263",
   "metadata": {},
   "outputs": [],
   "source": [
    "#wrangle function for csv data cleanup for 2016\n",
    "\n",
    "\n",
    "def wrangle16(f):\n",
    "    df16 = pd.read_csv(f)\n",
    "    \n",
    "    df16=df16['ASALTO;INMOVILIZACION;2016-01-01;PERSONA;PEATON [PERSONA];Mayor de edad                                     ;;NICARAGUA;ALAJUELA;SAN CARLOS;VENECIA;'].str.split(';', expand=True)\n",
    "    \n",
    "    df16.drop(columns= [6,11], inplace=True)\n",
    "    nombres = {\n",
    "    0:'Delito',\n",
    "    1: 'Subdelito',\n",
    "    2: 'Fecha',\n",
    "    3: 'Victima',\n",
    "    4: 'Subvictima',\n",
    "    5: 'Edad',\n",
    "    7: 'Nacionalidad',\n",
    "    8: 'Provincia',\n",
    "    9: 'Canton',\n",
    "    10: 'Distrito'\n",
    "\n",
    "}\n",
    "    df16.rename(nombres, axis=1, inplace=True)\n",
    "    df16['Fecha'] = pd.to_datetime(df16['Fecha'], infer_datetime_format=True, errors='coerce')\n",
    "    \n",
    "    return df16"
   ]
  },
  {
   "cell_type": "code",
   "execution_count": 159,
   "id": "e6a5a359-c938-42f6-8cdd-7ae60a503755",
   "metadata": {},
   "outputs": [],
   "source": [
    "df16=wrangle16('/Users/mac/Desktop/just abierta proyecto/PJCROD_POLICIALES_V1-2016.csv')"
   ]
  },
  {
   "cell_type": "code",
   "execution_count": 160,
   "id": "0e3ba35d-ea81-4c7c-b599-5115484a6c77",
   "metadata": {},
   "outputs": [],
   "source": [
    "#wrangle function for csv data cleanup for 2017\n",
    "\n",
    "\n",
    "def wrangle17(f):\n",
    "    df17 = pd.read_csv(f)\n",
    "    \n",
    "    df17=df17['ASALTO;CANDADO CHINO;2017-01-01;PERSONA;PEATON [PERSONA];Mayor de edad                                     ;;COSTA RICA;SAN JOSE;MORAVIA;LA TRINIDAD;'].str.split(';', expand=True)\n",
    "    \n",
    "    df17.drop(columns= [6,11], inplace=True)\n",
    "    nombres = {\n",
    "    0:'Delito',\n",
    "    1: 'Subdelito',\n",
    "    2: 'Fecha',\n",
    "    3: 'Victima',\n",
    "    4: 'Subvictima',\n",
    "    5: 'Edad',\n",
    "    7: 'Nacionalidad',\n",
    "    8: 'Provincia',\n",
    "    9: 'Canton',\n",
    "    10: 'Distrito'\n",
    "\n",
    "}\n",
    "    df17.rename(nombres, axis=1, inplace=True)\n",
    "    df17['Fecha'] = pd.to_datetime(df17['Fecha'], infer_datetime_format=True, errors='coerce')\n",
    "    \n",
    "    return df17"
   ]
  },
  {
   "cell_type": "code",
   "execution_count": 161,
   "id": "849b7888-e9e8-4d47-bd62-50b21e76f2bc",
   "metadata": {},
   "outputs": [],
   "source": [
    "df17= wrangle17('/Users/mac/Desktop/just abierta proyecto/PJCROD_POLICIALES_V1-2017.csv')"
   ]
  },
  {
   "cell_type": "code",
   "execution_count": 162,
   "id": "d3964018-861c-48ac-b273-350b59e9dbed",
   "metadata": {},
   "outputs": [],
   "source": [
    "#wrangle function for csv data cleanup for 2018\n",
    "\n",
    "\n",
    "def wrangle18(f):\n",
    "    df18 = pd.read_csv(f)\n",
    "    \n",
    "    df18=df18['ROBO;ESCALAMIENTO;2018-01-01;VIVIENDA;NO APLICA [VIVIENDA];Mayor de edad                                     ;;COSTA RICA;ALAJUELA;SAN CARLOS;QUESADA'].str.split(';', expand=True)\n",
    "    \n",
    "    df18.drop(columns= [6,7], inplace=True)\n",
    "    nombres = {\n",
    "    0:'Delito',\n",
    "    1: 'Subdelito',\n",
    "    2: 'Fecha',\n",
    "    3: 'Victima',\n",
    "    4: 'Subvictima',\n",
    "    5: 'Edad',\n",
    "    7: 'Nacionalidad',\n",
    "    8: 'Provincia',\n",
    "    9: 'Canton',\n",
    "    10: 'Distrito'\n",
    "\n",
    "}\n",
    "    df18.rename(nombres, axis=1, inplace=True)\n",
    "    df18['Fecha'] = pd.to_datetime(df18['Fecha'], infer_datetime_format=True, errors='coerce')\n",
    "    \n",
    "    return df18"
   ]
  },
  {
   "cell_type": "code",
   "execution_count": 163,
   "id": "6733a29d-1d69-48bb-85fc-27dec9484552",
   "metadata": {},
   "outputs": [],
   "source": [
    "df18= wrangle18('/Users/mac/Desktop/just abierta proyecto/PJCROD_POLICIALES_V1-2018.csv')"
   ]
  },
  {
   "cell_type": "code",
   "execution_count": 164,
   "id": "786ab33e-4291-4a13-acfa-15499247ec07",
   "metadata": {},
   "outputs": [],
   "source": [
    "\n",
    "#wrangle function for csv data cleanup for 2019\n",
    "\n",
    "def wrangle19(f):\n",
    "    df19 = pd.read_csv(f)\n",
    "    \n",
    "    df19=df19['HURTO;POR DESCUIDO;2019-01-01;PERSONA;PEATON [PERSONA];Mayor de edad                                     ;;COSTA RICA;GUANACASTE;SANTA CRUZ;TAMARINDO'].str.split(';', expand=True)\n",
    "    \n",
    "    df19.drop(columns= [6,7], inplace=True)\n",
    "    nombres = {\n",
    "    0:'Delito',\n",
    "    1: 'Subdelito',\n",
    "    2: 'Fecha',\n",
    "    3: 'Victima',\n",
    "    4: 'Subvictima',\n",
    "    5: 'Edad',\n",
    "    7: 'Nacionalidad',\n",
    "    8: 'Provincia',\n",
    "    9: 'Canton',\n",
    "    10: 'Distrito'\n",
    "\n",
    "}\n",
    "    df19.rename(nombres, axis=1, inplace=True)\n",
    "    df19['Fecha'] = pd.to_datetime(df19['Fecha'], infer_datetime_format=True, errors='coerce')\n",
    "    \n",
    "    return df19"
   ]
  },
  {
   "cell_type": "code",
   "execution_count": 165,
   "id": "91294c7f-faaf-4d2d-aafa-67efc158d768",
   "metadata": {},
   "outputs": [],
   "source": [
    "df19= wrangle19 ('/Users/mac/Desktop/just abierta proyecto/PJCROD_POLICIALES_V1-2019.csv')"
   ]
  },
  {
   "cell_type": "code",
   "execution_count": 166,
   "id": "96f0ef5a-4851-479b-8182-ff7f75ddc743",
   "metadata": {},
   "outputs": [],
   "source": [
    "#wrangle function for csv data cleanup for 2020\n",
    "\n",
    "\n",
    "def wrangle20(f):\n",
    "    df20 = pd.read_csv(f)\n",
    "    \n",
    "    df20=df20['ASALTO;GOLPES;2020-01-01;PERSONA;PEATON [PERSONA];Mayor de edad                                     ;;COSTA RICA;HEREDIA;HEREDIA;ULLOA'].str.split(';', expand=True)\n",
    "    \n",
    "    df20.drop(columns= [6,7], inplace=True)\n",
    "    nombres = {\n",
    "    0:'Delito',\n",
    "    1: 'Subdelito',\n",
    "    2: 'Fecha',\n",
    "    3: 'Victima',\n",
    "    4: 'Subvictima',\n",
    "    5: 'Edad',\n",
    "    7: 'Nacionalidad',\n",
    "    8: 'Provincia',\n",
    "    9: 'Canton',\n",
    "    10: 'Distrito'\n",
    "\n",
    "}\n",
    "    df20.rename(nombres, axis=1, inplace=True)\n",
    "    df20['Fecha'] = pd.to_datetime(df20['Fecha'], infer_datetime_format=True, errors='coerce')\n",
    "    \n",
    "    return df20"
   ]
  },
  {
   "cell_type": "code",
   "execution_count": 167,
   "id": "e07be970-ef4b-45c2-a9b7-3126eabd8488",
   "metadata": {},
   "outputs": [],
   "source": [
    "df20= wrangle20('/Users/mac/Desktop/just abierta proyecto/PJCROD_POLICIALES_V1-2020.csv')"
   ]
  },
  {
   "cell_type": "code",
   "execution_count": 168,
   "id": "df457e06-8fec-4501-9332-2f649d3d63f5",
   "metadata": {},
   "outputs": [],
   "source": [
    "#wrangle function for csv data cleanup for 2021\n",
    "\n",
    "\n",
    "def wrangle21(f):\n",
    "    df21 = pd.read_csv(f)\n",
    "    \n",
    "    df21=df21['HURTO;OTRO O INDETERMINADO;2021-01-01;EDIFICACION;BODEGA/DEPOSITO/ALMACEN [EDIFICACION];Mayor de edad                                     ;;COSTA RICA;ALAJUELA;SAN CARLOS;QUESADA;'].str.split(';', expand=True)\n",
    "    \n",
    "    df21.drop(columns= [6,7,11], inplace=True)\n",
    "    nombres = {\n",
    "    0:'Delito',\n",
    "    1: 'Subdelito',\n",
    "    2: 'Fecha',\n",
    "    3: 'Victima',\n",
    "    4: 'Subvictima',\n",
    "    5: 'Edad',\n",
    "    7: 'Nacionalidad',\n",
    "    8: 'Provincia',\n",
    "    9: 'Canton',\n",
    "    10: 'Distrito'\n",
    "\n",
    "}\n",
    "    df21.rename(nombres, axis=1, inplace=True)\n",
    "    df21['Fecha'] = pd.to_datetime(df21['Fecha'], infer_datetime_format=True, errors='coerce')\n",
    "    \n",
    "    return df21"
   ]
  },
  {
   "cell_type": "code",
   "execution_count": 169,
   "id": "0ffdf58e-eb64-4fd3-a612-1dce9558ee1f",
   "metadata": {},
   "outputs": [],
   "source": [
    "df21= wrangle21('/Users/mac/Desktop/just abierta proyecto/PJCROD_POLICIALES_V1-2021.csv')"
   ]
  },
  {
   "cell_type": "code",
   "execution_count": 188,
   "id": "3637e6c0-14bf-44d6-8d80-04aa660d32fd",
   "metadata": {},
   "outputs": [],
   "source": [
    "#concatenation of previously generated dataframes\n",
    "\n",
    "\n",
    "df15_21 = pd.concat([df15,df16, df17, df18, df19, df20, df21], axis=0,ignore_index=True)"
   ]
  },
  {
   "cell_type": "code",
   "execution_count": 191,
   "id": "461a1db5-ab31-4aa7-ba38-6146e0a1b613",
   "metadata": {},
   "outputs": [],
   "source": [
    "\n",
    "#generate csv of the dataframe and save it\n",
    "\n",
    "df15_21.to_csv('df15_21.csv')"
   ]
  },
  {
   "cell_type": "markdown",
   "id": "8e86cddd-fcb1-4064-9138-5fed8e671422",
   "metadata": {},
   "source": [
    "# Exploration and Tranformation"
   ]
  },
  {
   "cell_type": "markdown",
   "id": "5814f122-3255-4692-b9f8-2ebcea35b7a4",
   "metadata": {},
   "source": [
    "### Cual fue la provincia con más delitos totales en Costa Rica?"
   ]
  },
  {
   "cell_type": "code",
   "execution_count": 284,
   "id": "3bba6e93-725e-47f3-8e4e-e0e8cdd8e997",
   "metadata": {},
   "outputs": [],
   "source": [
    "#creation of a pivot table showing the count of \"Delitos\" by \"Provincia\".\n",
    "    \n",
    "# Pivoted into df15_21\n",
    "tmp_df = df15_21[['Delito', 'Provincia']]\n",
    "pivot_table = tmp_df.pivot_table(\n",
    "    index=['Provincia'],\n",
    "    columns=['Delito'],\n",
    "    values=['Delito'],\n",
    "    aggfunc={'Delito': ['count']}\n",
    ")\n",
    "pivot_table.set_axis([flatten_column_header(col) for col in pivot_table.keys()], axis=1, inplace=True)\n",
    "df15_21_pivot = pivot_table.reset_index()\n",
    "\n",
    "# Renamed columns ASALTO\n",
    "df15_21_pivot.rename(columns={'Delito count ASALTO': 'ASALTO'}, inplace=True)\n",
    "\n",
    "# Renamed columns HOMICIDIO\n",
    "df15_21_pivot.rename(columns={'Delito count HOMICIDIO': 'HOMICIDIO'}, inplace=True)\n",
    "\n",
    "# Renamed columns  HURTO\n",
    "df15_21_pivot.rename(columns={'Delito count HURTO': ' HURTO'}, inplace=True)\n",
    "\n",
    "# Renamed columns ROBO\n",
    "df15_21_pivot.rename(columns={'Delito count ROBO': 'ROBO'}, inplace=True)\n",
    "\n",
    "# Renamed columns ROBO DE VEHICULO\n",
    "df15_21_pivot.rename(columns={'Delito count ROBO DE VEHICULO': 'ROBO DE VEHICULO'}, inplace=True)\n",
    "\n",
    "# Renamed columns TACHA DE VEHICULO\n",
    "df15_21_pivot.rename(columns={'Delito count TACHA DE VEHICULO': 'TACHA DE VEHICULO'}, inplace=True)\n",
    "\n",
    "# Changed ASALTO to dtype int\n",
    "df15_21_pivot['ASALTO'] = df15_21_pivot['ASALTO'].fillna(0).astype('int')\n",
    "\n",
    "# Changed HOMICIDIO to dtype int\n",
    "df15_21_pivot['HOMICIDIO'] = df15_21_pivot['HOMICIDIO'].fillna(0).astype('int')\n",
    "\n",
    "# Changed  HURTO to dtype int\n",
    "df15_21_pivot[' HURTO'] = df15_21_pivot[' HURTO'].fillna(0).astype('int')\n",
    "\n",
    "# Changed ROBO to dtype int\n",
    "df15_21_pivot['ROBO'] = df15_21_pivot['ROBO'].fillna(0).astype('int')\n",
    "\n",
    "# Changed ROBO DE VEHICULO to dtype int\n",
    "df15_21_pivot['ROBO DE VEHICULO'] = df15_21_pivot['ROBO DE VEHICULO'].fillna(0).astype('int')\n",
    "\n",
    "# Changed TACHA DE VEHICULO to dtype int\n",
    "df15_21_pivot['TACHA DE VEHICULO'] = df15_21_pivot['TACHA DE VEHICULO'].fillna(0).astype('int')\n",
    "\n",
    "# Deleted 1 row in df15_21_pivot\n",
    "df15_21_pivot.drop(labels=[0], inplace=True)\n",
    "\n",
    "# Deleted 1 row in df15_21_pivot\n",
    "df15_21_pivot.drop(labels=[1], inplace=True)\n",
    "\n",
    "# Deleted 1 row in df15_21_pivot\n",
    "df15_21_pivot.drop(labels=[2], inplace=True)\n",
    "\n",
    "# Deleted 1 row in df15_21_pivot\n",
    "df15_21_pivot.drop(labels=[5], inplace=True)\n",
    "\n",
    "# Added column new-column-zgvc\n",
    "df15_21_pivot.insert(7, 'new-column-zgvc', 0)\n",
    "\n",
    "# Renamed columns Total\n",
    "df15_21_pivot.rename(columns={'new-column-zgvc': 'Total'}, inplace=True)\n",
    "\n",
    "# Set formula of Total\n",
    "df15_21_pivot['Total'] = SUM(df15_21_pivot['ASALTO'],df15_21_pivot['HOMICIDIO'],df15_21_pivot[' HURTO'],df15_21_pivot['ROBO'],df15_21_pivot['ROBO DE VEHICULO'],df15_21_pivot['TACHA DE VEHICULO'])\n"
   ]
  },
  {
   "cell_type": "markdown",
   "id": "8d582976-58fe-4a37-836a-6ac7efacaeb7",
   "metadata": {},
   "source": [
    "### Cual fue el delito más común en la provincia de San José para 2015?\n"
   ]
  },
  {
   "cell_type": "code",
   "execution_count": 432,
   "id": "6fc238d2-bbbd-4568-a0e6-96d1395c400f",
   "metadata": {},
   "outputs": [],
   "source": [
    "#subset of columns 'Fecha','Provincia', 'Delito'\n",
    "\n",
    "mask2= df15_21[['Fecha','Provincia', 'Delito']]"
   ]
  },
  {
   "cell_type": "code",
   "execution_count": 296,
   "id": "fab0d7f9-6836-4708-ba32-7f04e30d986f",
   "metadata": {},
   "outputs": [],
   "source": [
    "# filtering by \"Fecha\" to contain only data from 2015, such as \"Provincia\" San Jose\n",
    "    \n",
    "# Filtered Fecha\n",
    "mask2 = mask2[((mask2['Fecha'] >= pd.to_datetime('2015-01-01')) & (mask2['Fecha'] <= pd.to_datetime('2015-12-31')))]\n",
    "\n",
    "# Filtered Provincia\n",
    "mask2 = mask2[mask2['Provincia'].str.contains('SAN JOSE', na=False)]\n",
    "\n",
    "\n",
    "\n",
    "#creation of a pivot table showing the count of \"Delitos\" in san jose for 2015\n",
    "\n",
    "# Pivoted into mask2\n",
    "tmp_df = mask2[['Delito', 'Fecha', 'Provincia']]\n",
    "pivot_table = tmp_df.pivot_table(\n",
    "    index=['Fecha', 'Delito'],\n",
    "    columns=['Provincia'],\n",
    "    values=['Delito'],\n",
    "    aggfunc={'Delito': ['count']}\n",
    ")\n",
    "pivot_table.set_axis([flatten_column_header(col) for col in pivot_table.keys()], axis=1, inplace=True)\n",
    "mask2_pivot = pivot_table.reset_index()\n",
    "\n",
    "# Sorted Delito count SAN JOSE in descending order\n",
    "mask2_pivot = mask2_pivot.sort_values(by='Delito count SAN JOSE', ascending=False, na_position='last')\n",
    "\n",
    "# Added column new-column-tn47\n",
    "mask2_pivot.insert(3, 'new-column-tn47', 0)\n",
    "\n",
    "# Deleted columns new-column-tn47\n",
    "mask2_pivot.drop(['new-column-tn47'], axis=1, inplace=True)\n",
    "\n",
    "# Added column new-column-377h\n",
    "mask2_pivot.insert(3, 'new-column-377h', 0)\n",
    "\n",
    "# Deleted columns new-column-377h\n",
    "mask2_pivot.drop(['new-column-377h'], axis=1, inplace=True)\n",
    "\n",
    "# Deleted columns Delito count SAN JOSE\n",
    "mask2_pivot.drop(['Delito count SAN JOSE'], axis=1, inplace=True)\n"
   ]
  },
  {
   "cell_type": "code",
   "execution_count": 314,
   "id": "af7df3f4-2bf3-4436-be52-d02be250e5ac",
   "metadata": {},
   "outputs": [],
   "source": [
    "incidencias= mask2_pivot['Delito'].value_counts()"
   ]
  },
  {
   "cell_type": "code",
   "execution_count": 315,
   "id": "38d1075e-312d-49d9-b89c-408cd39bef82",
   "metadata": {},
   "outputs": [],
   "source": [
    "#convert into DataFrame\n",
    "\n",
    "incidencias = pd.DataFrame(incidencias)"
   ]
  },
  {
   "cell_type": "code",
   "execution_count": null,
   "id": "739d3cd9-cf38-4acf-a3bc-c9b78f029e6b",
   "metadata": {},
   "outputs": [],
   "source": [
    "incidencias.reset_index()"
   ]
  },
  {
   "cell_type": "code",
   "execution_count": 329,
   "id": "49f4af80-3951-4024-bf2a-6f0c8853c56e",
   "metadata": {},
   "outputs": [],
   "source": [
    "incidencias= pd.read_csv('/Users/mac/Desktop/just abierta proyecto/delito_mas_comun_en_sj.csv')"
   ]
  },
  {
   "cell_type": "code",
   "execution_count": 341,
   "id": "d0bd7136-5f9b-4588-9c5d-4e29cd0acb47",
   "metadata": {},
   "outputs": [],
   "source": [
    "#add % column\n",
    "\n",
    "\n",
    "incidencias['porcentaje'] = (incidencias['Incidencias'] / incidencias['Incidencias'].sum()) * 100\n"
   ]
  },
  {
   "cell_type": "markdown",
   "id": "2f1cca24-963c-4730-ac26-722011b5b122",
   "metadata": {},
   "source": [
    "### Cual fue el delito más común en la provincia de San José para 2021?"
   ]
  },
  {
   "cell_type": "code",
   "execution_count": null,
   "id": "447cf63f-71f2-4ea7-ad41-e85b6537aac1",
   "metadata": {},
   "outputs": [],
   "source": [
    "#subset, where extract 'Fecha','Provincia', 'Delito'\n",
    "\n",
    "\n",
    "mask3= df15_21[['Fecha','Provincia', 'Delito']]"
   ]
  },
  {
   "cell_type": "code",
   "execution_count": 351,
   "id": "6ca08428-5f72-4697-8f66-bff4419baa3c",
   "metadata": {},
   "outputs": [],
   "source": [
    "# Filtered Fecha\n",
    "mask3 = mask3[((mask3['Fecha'] >= pd.to_datetime('2021-01-01')) & (mask3['Fecha'] <= pd.to_datetime('2021-12-31')))]\n",
    "\n",
    "# Filtered Provincia\n",
    "mask3 = mask3[mask3['Provincia'].str.contains('SAN JOSE', na=False)]\n"
   ]
  },
  {
   "cell_type": "code",
   "execution_count": 354,
   "id": "1a616ec6-ae4a-4971-a75f-a412991f51bb",
   "metadata": {},
   "outputs": [],
   "source": [
    "incidencias2= mask3['Delito'].value_counts()"
   ]
  },
  {
   "cell_type": "code",
   "execution_count": 355,
   "id": "f2601e12-0786-40b0-b123-1b35121530ae",
   "metadata": {},
   "outputs": [],
   "source": [
    "#convert into DataFrame\n",
    "\n",
    "incidencias2= pd.DataFrame(incidencias2)"
   ]
  },
  {
   "cell_type": "code",
   "execution_count": null,
   "id": "8a063bee-cf97-423f-8cfb-35d9c0ec1269",
   "metadata": {},
   "outputs": [],
   "source": [
    "incidencias2.reset_index()"
   ]
  },
  {
   "cell_type": "code",
   "execution_count": 359,
   "id": "3d345fbe-12a1-447d-85ef-f8179c68272c",
   "metadata": {},
   "outputs": [],
   "source": [
    "incidencias2= pd.read_csv('/Users/mac/Desktop/just abierta proyecto/delitos_mas_comun_en_sj_2021.csv')"
   ]
  },
  {
   "cell_type": "code",
   "execution_count": 361,
   "id": "b361de42-37f7-4e83-b45a-c5d8b96ccea9",
   "metadata": {},
   "outputs": [],
   "source": [
    "#add % column\n",
    "\n",
    "incidencias2['porcentaje']  = (incidencias2['Incidencia'] / incidencias2['Incidencia'].sum()) * 100"
   ]
  },
  {
   "cell_type": "markdown",
   "id": "98cf6be9-9d79-414e-bab6-1e3d21d95387",
   "metadata": {},
   "source": [
    "### Cual es el mes que presenta más cantidad de hurtos en San José para 2021?"
   ]
  },
  {
   "cell_type": "code",
   "execution_count": 375,
   "id": "e3b4dd2a-b6cf-4778-9ae5-50b785fb4626",
   "metadata": {},
   "outputs": [],
   "source": [
    "#subset, where extract 'Fecha', 'Delito' and then filtered by \"HURTO\" and 2021 date\n",
    "\n",
    "mask4= df15_21[['Fecha', 'Delito']]\n",
    "mask4 = mask4[mask4['Delito'].str.contains('HURTO', na=False)]\n",
    "mask4 = mask4[((mask4['Fecha'] >= pd.to_datetime('2021-01-01')) & (mask4['Fecha'] <= pd.to_datetime('2021-12-31')))]"
   ]
  },
  {
   "cell_type": "code",
   "execution_count": 381,
   "id": "4c0ca36a-d1bd-4479-befd-e935ac08125c",
   "metadata": {},
   "outputs": [],
   "source": [
    "#Add columns \"Anno\" that extracts just the year from \"Fecha\" column, and \"Mes\" that extracts month from \"Fecha\" column\n",
    "\n",
    "mask4['Anno'] = pd.DatetimeIndex(mask4['Fecha']).year\n",
    "mask4['Mes'] = pd.DatetimeIndex(mask4['Fecha']).month"
   ]
  },
  {
   "cell_type": "code",
   "execution_count": 385,
   "id": "c83cf6cd-4904-4564-9cca-49f0947e8c06",
   "metadata": {},
   "outputs": [],
   "source": [
    "#Creation of dict that replace the number of months for the actual names\n",
    "\n",
    "\n",
    "m = {\n",
    "    1: 'Enero',\n",
    "    2: 'Febrero',\n",
    "    3: 'Marzo',\n",
    "    4: 'Abril',\n",
    "    5: 'Mayo',\n",
    "    6: 'Junio',\n",
    "    7: 'Julio',\n",
    "    8: 'Agosto',\n",
    "    9: 'Setiembre',\n",
    "    10: 'Octubre',\n",
    "    11: 'Noviembre',\n",
    "    12: 'Diciembre'\n",
    "}\n",
    "\n",
    "\n",
    "mask4['Mes']= mask4['Mes'].replace(m)"
   ]
  },
  {
   "cell_type": "code",
   "execution_count": 389,
   "id": "c019bdd6-042a-4268-a467-87503a3f0d97",
   "metadata": {},
   "outputs": [],
   "source": [
    "hurto=mask4['Mes'].value_counts()"
   ]
  },
  {
   "cell_type": "code",
   "execution_count": 390,
   "id": "26171efc-f34b-46bf-8f37-5983b19049b5",
   "metadata": {},
   "outputs": [],
   "source": [
    "#convert into DataFrame\n",
    "\n",
    "hurto = pd.DataFrame(hurto)"
   ]
  },
  {
   "cell_type": "code",
   "execution_count": null,
   "id": "72e06303-f80f-4150-ba58-31cd9fd935ea",
   "metadata": {},
   "outputs": [],
   "source": [
    "hurto.reset_index()"
   ]
  },
  {
   "cell_type": "code",
   "execution_count": null,
   "id": "03aa2f49-3342-4b54-bbc4-b3e29809295d",
   "metadata": {},
   "outputs": [],
   "source": [
    "# Renamed columns Incidencias\n",
    "hurto.reset_index(.rename(columns={'Mes': 'Incidencias'}, inplace=True)\n",
    "\n",
    "# Renamed columns Mes\n",
    "hurto.reset_index(.rename(columns={'index': 'Mes'}, inplace=True)\n"
   ]
  },
  {
   "cell_type": "markdown",
   "id": "5bec35ff-7b79-47c5-a18a-4ff53a96696f",
   "metadata": {},
   "source": [
    "### Cuales son los 5 distritos de San José que presentan mayor cantidad de homicidios por ajuste de cuentas en 2021?"
   ]
  },
  {
   "cell_type": "code",
   "execution_count": 416,
   "id": "6e0d6813-67bd-4d1d-972d-23dbf264c2a6",
   "metadata": {},
   "outputs": [],
   "source": [
    "#subset\n",
    "\n",
    "mask5= df15_21[['Fecha', 'Delito', 'Subdelito', 'Provincia', 'Distrito' ]]"
   ]
  },
  {
   "cell_type": "code",
   "execution_count": 417,
   "id": "3a234e87-8dcc-491e-a989-ea5fa9ea7335",
   "metadata": {},
   "outputs": [],
   "source": [
    "\n",
    "# Filtered Fecha\n",
    "mask5 = mask5[((mask5['Fecha'] >= pd.to_datetime('2021-01-01')) & (mask5['Fecha'] <= pd.to_datetime('2021-12-31')))]\n",
    "\n",
    "# Filtered Delito\n",
    "mask5 = mask5[mask5['Delito'].str.contains('HOMICIDIO', na=False)]\n",
    "\n",
    "# Filtered Subdelito\n",
    "mask5 = mask5[mask5['Subdelito'].str.contains('AJUSTE DE CUENTAS', na=False)]\n",
    "\n",
    "# Filtered Provincia\n",
    "mask5 = mask5[mask5['Provincia'].str.contains('SAN JOSE', na=False)]\n"
   ]
  },
  {
   "cell_type": "code",
   "execution_count": 424,
   "id": "6c451f46-29cd-43ce-bc55-f6305400eeb1",
   "metadata": {},
   "outputs": [],
   "source": [
    "distrito_ajuste_cuentas= mask5['Distrito'].value_counts()"
   ]
  },
  {
   "cell_type": "code",
   "execution_count": 426,
   "id": "f3dd4c10-5d49-4884-af77-e9b882cf1469",
   "metadata": {},
   "outputs": [],
   "source": [
    "#convert into DataFrame\n",
    "\n",
    "distrito_ajuste_cuentas= pd.DataFrame(distrito_ajuste_cuentas)"
   ]
  },
  {
   "cell_type": "code",
   "execution_count": null,
   "id": "a14b7481-c465-4c91-9b65-19d807975487",
   "metadata": {},
   "outputs": [],
   "source": [
    "distrito_ajuste_cuentas.reset_index()"
   ]
  }
 ],
 "metadata": {
  "kernelspec": {
   "display_name": "Python 3 (ipykernel)",
   "language": "python",
   "name": "python3"
  },
  "language_info": {
   "codemirror_mode": {
    "name": "ipython",
    "version": 3
   },
   "file_extension": ".py",
   "mimetype": "text/x-python",
   "name": "python",
   "nbconvert_exporter": "python",
   "pygments_lexer": "ipython3",
   "version": "3.9.12"
  },
  "toc-autonumbering": false,
  "toc-showcode": false,
  "toc-showmarkdowntxt": true
 },
 "nbformat": 4,
 "nbformat_minor": 5
}
